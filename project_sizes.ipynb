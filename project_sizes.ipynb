{
 "cells": [
  {
   "cell_type": "code",
   "execution_count": null,
   "id": "76813829-54df-43c0-b088-2ff63824b218",
   "metadata": {},
   "outputs": [],
   "source": [
    "#!/bin/bash\n",
    "\n",
    "begin_notebook=$SECONDS"
   ]
  },
  {
   "cell_type": "markdown",
   "id": "175e6e91-7d84-4125-a941-d7670dbc17c4",
   "metadata": {},
   "source": [
    "# Project Sizes"
   ]
  },
  {
   "cell_type": "markdown",
   "id": "4b490c9f-1116-449f-9514-61cb0862b365",
   "metadata": {},
   "source": [
    "How do projects grow over time?\n",
    "\n",
    "We have looked at commits over time, but what about the project sizes themselves?\n",
    "\n",
    "There are many ways to measure the size of a project. Let's list a few.\n",
    "\n",
    "1. Number of files\n",
    "1. Total size of all the files.\n",
    "1. Size of all files after compression.\n",
    "1. Size of the git repository."
   ]
  },
  {
   "cell_type": "markdown",
   "id": "483bc197-8dcc-4ee1-8cf3-9d475d8ee7ac",
   "metadata": {},
   "source": [
    "The first one's easy enough. In fact, we wrote a function for it in the earlier notebook."
   ]
  },
  {
   "cell_type": "code",
   "execution_count": null,
   "id": "856636c3-e864-41e1-8597-51eaa4c916d2",
   "metadata": {},
   "outputs": [],
   "source": [
    "# count the files in the named commit without checking them out\n",
    "files() { git ls-tree -r --full-tree --name-only ${1:-HEAD}; }\n",
    "nfiles() { files $1 | wc -l; }"
   ]
  },
  {
   "cell_type": "markdown",
   "id": "396d21eb-e62c-46cd-86eb-2e64caf00206",
   "metadata": {},
   "source": [
    "`files()` lists all the files in the named revision, where the name is any tree-ish -- any SHA1 of a tree object, or a reference that can be resolved to a tree object, like the SHA1 of a commit, or anything that Git can turn into a SHA1, such as `master` or `HEAD~2`."
   ]
  },
  {
   "cell_type": "markdown",
   "id": "10a8ddd2-bdf5-4dde-9a06-8cafa3d0aa63",
   "metadata": {},
   "source": [
    "## Sampling commits"
   ]
  },
  {
   "cell_type": "markdown",
   "id": "37442ca9-18c2-404e-9871-25cfd905b329",
   "metadata": {},
   "source": [
    "We'll also re-use the functions we built to sample commits through the history of the project.\n",
    "We need\n",
    "\n",
    "* the number of commits in the project\n",
    "* how many commits to skip over to get the number of commits we want to sample\n",
    "* the SHA1s of the sampled commits\n",
    "* something that loops through those sampled commits, asking the question we want to ask of each"
   ]
  },
  {
   "cell_type": "code",
   "execution_count": null,
   "id": "9d1a69a6-1564-4d36-af55-948e8dfbafd8",
   "metadata": {},
   "outputs": [],
   "source": [
    "# number of commits\n",
    "ncommits() { git rev-list --first-parent HEAD | wc -l; }\n",
    "\n",
    "# interval between sampled commits\n",
    "mod() { # how many commits do I skip to get $1 points?\n",
    "    local npoints=${1:-1}  # default to every commit\n",
    "    local ncmts=$(ncommits)\n",
    "    echo $(( ncmts/npoints ))\n",
    "}\n",
    "# SHA1s of the sample commits\n",
    "only_every() { awk \"(NR-1)%$1 == 0\"; }\n",
    "sample_revs() {\n",
    "    git rev-list --first-parent --abbrev-commit --reverse HEAD |  # listed from first to last\n",
    "        only_every $(mod $1)\n",
    "}\n",
    "# loop through sample revisions, calling a function for each\n",
    "run_on_samples() {\n",
    "    local npoints=1 # by default, do every commit\n",
    "    if [ $# -eq 2 ]; then\n",
    "        local npoints=$1\n",
    "        shift # discard first argument\n",
    "    fi\n",
    "    local func=${1:-true}  # do nothing, i.e., only report the commit\n",
    "    for commit in $(sample_revs $npoints); do\n",
    "        echo $commit $($func $commit)\n",
    "    done\n",
    "}"
   ]
  },
  {
   "cell_type": "markdown",
   "id": "9616df91-4190-489b-be25-ba3998d8627c",
   "metadata": {},
   "source": [
    "When at the top-level of a repo, this lets us say things like `run_on_samples 1000 nfiles` to generate lists like this\n",
    "```\n",
    "e83c516331 11\n",
    "f864ba7448 19\n",
    "...\n",
    "9ae84d2e7f 4393\n",
    "```"
   ]
  },
  {
   "cell_type": "markdown",
   "id": "3282b1d0-7f0a-4e52-a99a-779fe3b3fb1a",
   "metadata": {},
   "source": [
    "If we're looking for the rates, we really want to know *when* those commits happened.\n",
    "Sure, in projects like Git, for which commits are remarkably evenly spaced over time, we don't really need to ask.\n",
    "For other repositories, however, we really want the first column to be a timestamp: the number of seconds after the very first commit.\n",
    "\n",
    "We can re-use some more functions from our earlier work."
   ]
  },
  {
   "cell_type": "code",
   "execution_count": null,
   "id": "fbc8aefe-502d-4068-8995-a7c6aba1e67a",
   "metadata": {},
   "outputs": [],
   "source": [
    "# an absolute timestamp, in seconds-from-the-epoch\n",
    "commit_time() { git log -1 --format=%ct $1; }\n",
    "# seconds between the first commit and the second\n",
    "seconds_between() { echo $(($(commit_time $2) - $(commit_time $1))); }\n",
    "# and finally, the function we need: seconds from the first commit.\n",
    "find_first_commit() {\n",
    "    FIRST_COMMIT=$(git rev-list --first-parent --reverse HEAD | head -1)  # initialize before first use\n",
    "}\n",
    "timestamp() {\n",
    "    seconds_between $FIRST_COMMIT $1\n",
    "}\n",
    "\n",
    "# turn that into weeks\n",
    "(( SPW = 60*60*24*7 ))  # save seconds-per-week as a shell constant\n",
    "spw() { echo \"scale=2; $1/$SPW\" | bc; }\n",
    "timestamp_in_weeks() {\n",
    "    spw $(timestamp $1)\n",
    "}\n",
    "\n",
    "# loop through sample revisions, calling a function for each,\n",
    "# separate timestamp and week with a comma\n",
    "run_on_timestamped_samples() {\n",
    "    local npoints=1 # by default, do every commit\n",
    "    if [ $# -eq 2 ]; then\n",
    "        local npoints=$1\n",
    "        shift # discard first argument\n",
    "    fi\n",
    "    local func=${1:-true}  # do nothing, i.e., only report the commit\n",
    "    for commit in $(sample_revs $npoints); do\n",
    "        echo $(timestamp_in_weeks $commit) ,$($func $commit)\n",
    "    done\n",
    "}"
   ]
  },
  {
   "cell_type": "markdown",
   "id": "117ba1a8-429a-4489-a1c2-bd3564012ccf",
   "metadata": {},
   "source": [
    "Here, we've modified our functions slightly to get csv output in the format \"timestamp,result\" directly.\n",
    "\n",
    "We'll need to call `find_first_commit()`, whenever we enter a new repo.\n",
    "The function illustrates something important: the default scope of shell variables is global. If you call a function that sets a shell variable, by default, that variable is set for the entire scope of the script (or notebook).\n",
    "\n",
    "This seems like a bizarre choice, but shows the antiquity of the language -- it was created before most other higher-level languages,\n",
    "some of its syntax and semantics seem odd simply because newer languages learned from its mistakes.\n",
    "\n",
    "If it helps, think \"bash is to Python as Basque is to English.\"\n",
    "\n",
    "Let's try our code. As before, let's use the git repo as our guinea pig."
   ]
  },
  {
   "cell_type": "code",
   "execution_count": null,
   "id": "091b77bc-a0b9-45be-833e-aeac651d2c92",
   "metadata": {},
   "outputs": [],
   "source": [
    "[ -d git ] || git clone https://github.com/git/git.git # clone Git's source-code repo if it's not already there\n",
    "pushd git >/dev/null # and dive in\n",
    "find_first_commit\n",
    "run_on_timestamped_samples 10 nfiles\n",
    "popd >/dev/null"
   ]
  },
  {
   "cell_type": "code",
   "execution_count": null,
   "id": "4d3ea442-e379-4ce4-b20f-a8d14e936f06",
   "metadata": {},
   "outputs": [],
   "source": [
    "\n",
    "(( elapsed_seconds = SECONDS - begin_notebook ))\n",
    "(( minutes = elapsed_seconds / 60 ))\n",
    "seconds=$((elapsed_seconds - minutes*60))\n",
    "printf \"Total elapsed time %02d:%02d\\n\" $minutes $seconds"
   ]
  }
 ],
 "metadata": {
  "kernelspec": {
   "display_name": "Bash",
   "language": "bash",
   "name": "bash"
  },
  "language_info": {
   "codemirror_mode": "shell",
   "file_extension": ".sh",
   "mimetype": "text/x-sh",
   "name": "bash"
  }
 },
 "nbformat": 4,
 "nbformat_minor": 5
}

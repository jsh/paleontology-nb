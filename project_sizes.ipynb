{
 "cells": [
  {
   "cell_type": "code",
   "execution_count": null,
   "id": "76813829-54df-43c0-b088-2ff63824b218",
   "metadata": {},
   "outputs": [],
   "source": [
    "#!/bin/bash\n",
    "\n",
    "begin_notebook=$SECONDS"
   ]
  },
  {
   "cell_type": "markdown",
   "id": "175e6e91-7d84-4125-a941-d7670dbc17c4",
   "metadata": {},
   "source": [
    "# Project Sizes"
   ]
  },
  {
   "cell_type": "markdown",
   "id": "4b490c9f-1116-449f-9514-61cb0862b365",
   "metadata": {},
   "source": [
    "How do projects grow over time?\n",
    "\n",
    "We have looked at commits over time, but what about the project sizes themselves?\n",
    "\n",
    "There are many ways to measure the size of a project. Let's list a few.\n",
    "\n",
    "1. Number of files\n",
    "1. Total size of all the files.\n",
    "1. Size of all files after compression.\n",
    "1. Size of the git repository."
   ]
  },
  {
   "cell_type": "markdown",
   "id": "10a8ddd2-bdf5-4dde-9a06-8cafa3d0aa63",
   "metadata": {},
   "source": [
    "## Sampling commits"
   ]
  },
  {
   "cell_type": "markdown",
   "id": "37442ca9-18c2-404e-9871-25cfd905b329",
   "metadata": {},
   "source": [
    "We'll want to re-use functions we built to sample commits through the history of the project.\n",
    "\n",
    "We need\n",
    "\n",
    "* the number of commits in the project\n",
    "* how many commits to skip over to get the number of commits we want to sample\n",
    "* the SHA1s of the sampled commits\n",
    "* something that loops through those sampled commits, asking the question we want to ask of each"
   ]
  },
  {
   "cell_type": "code",
   "execution_count": null,
   "id": "9d1a69a6-1564-4d36-af55-948e8dfbafd8",
   "metadata": {},
   "outputs": [],
   "source": [
    "# number of commits\n",
    "ncommits() { git rev-list --first-parent HEAD | wc -l; }\n",
    "\n",
    "# interval between sampled commits\n",
    "mod() { # how many commits do I skip to get $1 points?\n",
    "    local npoints=${1:-1}  # default to every commit\n",
    "    local ncmts=$(ncommits)\n",
    "    echo $(( ncmts/npoints ))\n",
    "}\n",
    "# SHA1s of the sample commits\n",
    "only_every() { awk \"(NR-1)%$1 == 0\"; }\n",
    "sample_revs() {\n",
    "    git rev-list --first-parent --abbrev-commit --reverse HEAD |  # listed from first to last\n",
    "        only_every $(mod $1)\n",
    "}\n",
    "# loop through sample revisions, calling a function for each\n",
    "run_on_samples() {\n",
    "    local npoints=1 # by default, do every commit\n",
    "    if [ $# -eq 2 ]; then\n",
    "        local npoints=$1\n",
    "        shift # discard first argument\n",
    "    fi\n",
    "    local func=${1:-true}  # do nothing, i.e., only report the commit\n",
    "    for commit in $(sample_revs $npoints); do\n",
    "        echo $commit $($func $commit)\n",
    "    done\n",
    "}"
   ]
  },
  {
   "cell_type": "markdown",
   "id": "9616df91-4190-489b-be25-ba3998d8627c",
   "metadata": {},
   "source": [
    "When at the top-level of a repo, this lets us say things like `run_on_samples 1000 nfiles` to generate lists like this\n",
    "```\n",
    "e83c516331 11\n",
    "f864ba7448 19\n",
    "...\n",
    "9ae84d2e7f 4393\n",
    "```"
   ]
  },
  {
   "cell_type": "markdown",
   "id": "3282b1d0-7f0a-4e52-a99a-779fe3b3fb1a",
   "metadata": {},
   "source": [
    "If we're looking for the rates, we really want to know *when* those commits happened.\n",
    "Sure, in projects like Git, for which commits are remarkably evenly spaced over time, we don't really need to ask.\n",
    "For other repositories, however, we really want the first column to be a timestamp: the number of seconds after the very first commit.\n",
    "\n",
    "We can re-use some more functions from our earlier notebook,\n",
    "though we'll rearrange and clean some of them up a bit."
   ]
  },
  {
   "cell_type": "markdown",
   "id": "10111dec-dad9-4b13-b8b5-0eefab45b078",
   "metadata": {},
   "source": [
    "For example, we'll begin with a function that sets some global constants."
   ]
  },
  {
   "cell_type": "code",
   "execution_count": null,
   "id": "ced650f9-0c95-4d5e-b03f-9054304980bf",
   "metadata": {},
   "outputs": [],
   "source": [
    "# constants used elsewhere\n",
    "set_globals() {\n",
    "    FIRST_COMMIT=$(git rev-list --first-parent --reverse HEAD | head -1)  # initialize per repo\n",
    "    SPW=$(( 60*60*24*7 ))  # calculate and save seconds-per-week as a shell constant\n",
    "}"
   ]
  },
  {
   "cell_type": "markdown",
   "id": "7e8dcafb-b8fd-4733-9492-0c4b5b6c2d5f",
   "metadata": {},
   "source": [
    "This illustrates something important: by default, shell variables are globals, even if you define them inside a function. If you call a function that sets a shell variable, by default, that variable is set for the entire rest of the script (or notebook).\n",
    "\n",
    "Today, this seems like a bizarre choice. The Unix shell was created before most other common languages, so some of its syntax and semantics are odd because it was born in the early days of higher-level language design, before there was as much general agreement on what languages should look like.\n",
    "\n",
    "It's from an early stage in program-language development. If it helps, think, \"bash is to Python (or C) as Basque is to Ogden's Basic English.\"\n",
    "\n",
    "And if \"Ogden's Basic English\" doesn't ring a bell, Google it. :-)\n",
    "\n",
    "The second assignment, to SPW, is also interesting, because it shows how to do integer arithmetic: just enclose it in double-parens."
   ]
  },
  {
   "cell_type": "code",
   "execution_count": null,
   "id": "4571a972-d81a-4ed9-a111-5dcad88e3965",
   "metadata": {},
   "outputs": [],
   "source": [
    "# an absolute timestamp, in seconds-from-the-epoch\n",
    "commit_time() { git log -1 --format=%ct $1; }\n",
    "# seconds between the first commit and the second\n",
    "seconds_between() { echo $(($(commit_time $2) - $(commit_time $1))); }\n",
    "\n",
    "# and finally, the function we need: seconds from the first commit.\n",
    "timestamp() {\n",
    "    seconds_between $FIRST_COMMIT $1\n",
    "}"
   ]
  },
  {
   "cell_type": "markdown",
   "id": "51e811d2-8b19-4e4a-b865-0c71d2d04730",
   "metadata": {},
   "source": [
    "We'll usually want to have our timestamps in something smaller than seconds, like weeks,\n",
    "so let's do the conversion by dividing the times in seconds by the `SPW` constant we defined earlier."
   ]
  },
  {
   "cell_type": "code",
   "execution_count": null,
   "id": "88024c8d-a803-4160-b568-a3a7b06e4194",
   "metadata": {},
   "outputs": [],
   "source": [
    "spw() { echo \"scale=2; $1/$SPW\" | bc; }\n",
    "timestamp_in_weeks() {\n",
    "    spw $(timestamp $1)\n",
    "}"
   ]
  },
  {
   "cell_type": "markdown",
   "id": "eae598e8-1624-4110-9b25-0dc8a8c569c5",
   "metadata": {},
   "source": [
    "We work around the shell's refusal do floating-point arithmetic, by calling a separate utility, `bc`, an arbitrary-precision calculator.\n",
    "`bc` takes instructions -- little programs -- so we construct the program, `scale=2; $1/$SPW`, and feed it to `bc` on `stdin`!\n",
    "\n",
    "This is typical shell programming: find a utility that lets you tell it how to do what you want, then use other tools -- in this case, `echo`, to construct the instructions."
   ]
  },
  {
   "cell_type": "code",
   "execution_count": null,
   "id": "db86eec6-fe26-4688-b74a-e463aaac8e7e",
   "metadata": {},
   "outputs": [],
   "source": [
    "# loop through sample revisions, calling a function for each,\n",
    "# separate timestamp and week with a comma\n",
    "run_on_timestamped_samples() {\n",
    "    local npoints=1 # by default, do every commit\n",
    "    if [ $# -eq 2 ]; then\n",
    "        local npoints=$1\n",
    "        shift # discard first argument\n",
    "    fi\n",
    "    local func=${1:-true}  # do nothing, i.e., only report the commit\n",
    "    for commit in $(sample_revs $npoints); do\n",
    "        echo $(timestamp_in_weeks $commit) ,$($func $commit)\n",
    "    done\n",
    "}"
   ]
  },
  {
   "cell_type": "markdown",
   "id": "dc606bfc-d669-42a9-9a7d-a8d7806ad72b",
   "metadata": {},
   "source": [
    "We've modified our earlier function slightly to get csv output in the format \"timestamp,result\" directly."
   ]
  },
  {
   "cell_type": "markdown",
   "id": "35d9a58a-613d-46d5-9828-1efae7de5ed2",
   "metadata": {},
   "source": [
    "Enough prep work. Let's try our code. "
   ]
  },
  {
   "cell_type": "markdown",
   "id": "c13b9bb1-f27f-4fb7-ba0c-7ccccc035d74",
   "metadata": {},
   "source": [
    "As before, we'll use the git repo as our guinea pig."
   ]
  },
  {
   "cell_type": "markdown",
   "id": "1568c48a-efde-4c51-aa75-9dcb84845017",
   "metadata": {},
   "source": [
    "## 1. Number Of Files\n",
    "\n",
    "We can begin by just counting the number of files for a set of sample commits.\n",
    "For this, we only need a function that returns the number of files.\n",
    "We figured this out in the earlier notebook, too."
   ]
  },
  {
   "cell_type": "code",
   "execution_count": null,
   "id": "cd73bfe5-2e33-4b9c-bed0-5cd536b9e6a7",
   "metadata": {},
   "outputs": [],
   "source": [
    "# count the files in the named commit without checking them out\n",
    "files() { git ls-tree -r --full-tree --name-only ${1:-HEAD}; }\n",
    "nfiles() { files $1 | wc -l; }"
   ]
  },
  {
   "cell_type": "markdown",
   "id": "396d21eb-e62c-46cd-86eb-2e64caf00206",
   "metadata": {},
   "source": [
    "`files()` lists all the files in the named revision, where the name is any tree-ish -- any SHA1 of a tree object, or a reference that can be resolved to a tree object, like the SHA1 of a commit, or anything that Git can turn into a SHA1, such as `master` or `HEAD~2`."
   ]
  },
  {
   "cell_type": "code",
   "execution_count": null,
   "id": "091b77bc-a0b9-45be-833e-aeac651d2c92",
   "metadata": {},
   "outputs": [],
   "source": [
    "[ -d git ] || git clone https://github.com/git/git.git # clone Git's source-code repo if it's not already there\n",
    "cd git >/dev/null # and dive in\n",
    "set_globals\n",
    "run_on_timestamped_samples 10 nfiles"
   ]
  },
  {
   "cell_type": "markdown",
   "id": "9974d3d8-ba5d-42ae-abde-6306e4b50a81",
   "metadata": {},
   "source": [
    "That was easy. Excelsior!"
   ]
  },
  {
   "cell_type": "markdown",
   "id": "ccfbb0c4-ec70-4c7e-b7a7-b833a7d7bda8",
   "metadata": {},
   "source": [
    "## 2. Total Size of All Files.\n",
    "\n",
    "This is harder than #1, for several reasons.\n",
    "\n",
    "First, the easiest way to get the sizes is to list the files,\n",
    "then run `wc` on each file, and sum the sizes to get a total.\n",
    "Unfortunately, filenames change over time. We actually have to check out each commit we're interested in, then look at the sizes of those -- the total size of the working tree of that snapshot.\n",
    "\n",
    "Second, we have to sum the output of `wc`. For small repositories, we can just count on `wc` to give us totals, but when the number of files gets large, `xargs` will batch up the filenames into very long argument lists, feed each long list to `wc`, and then\n",
    "print separate totals for each batch. For example, `linux` a large repository, has 17 different totals.\n",
    "\n",
    "Third, we have to remember to ignore the files under `.git/`, because these are the repository itself and are not part of the working tree.\n",
    "Even if we check out the first commit, the `.git/` folder will contain all the objects for every version.\n",
    "\n",
    "Working around all these problems will slow down our code.\n",
    "\n",
    "Let's see what we can do."
   ]
  },
  {
   "cell_type": "code",
   "execution_count": null,
   "id": "1f842724-7e73-4a7d-9186-df73c03537a0",
   "metadata": {},
   "outputs": [],
   "source": [
    "lines-and-characters() { git checkout -q ${1:-HEAD}; git ls-files | grep -v ' ' | xargs -L 1 wc | awk '{lines+=$1; chars+=$3}END{print lines \",\" chars}'; }"
   ]
  },
  {
   "cell_type": "markdown",
   "id": "260e7e6b-987e-4988-9603-6658b41b81b7",
   "metadata": {},
   "source": [
    "`git checkout` gives us a working tree for the commit of interest. `git ls-files` should then list the files in that commit. The rest of the line runs wc on the names, one file at a time, and hands those results to awk to give us totals, both for numbers of lines and numbers of characters.  \n",
    "\n",
    "The `grep -v ' '` filters out filenames with embeded blanks. We could write more complicated code to include these, but there are so few that we'll just ignore them. We're favoring simplicity over precision."
   ]
  },
  {
   "cell_type": "code",
   "execution_count": null,
   "id": "f331dc2d-191e-489a-9c62-03d491998cb1",
   "metadata": {
    "scrolled": true
   },
   "outputs": [],
   "source": [
    "time run_on_timestamped_samples 10 lines-and-characters 2>/dev/null"
   ]
  },
  {
   "cell_type": "markdown",
   "id": "f3db5a48-185b-4fb3-ab69-cc526aa35b29",
   "metadata": {},
   "source": [
    "It works, though it's slow and complains about occasional files that it doesn't know how to handle. Still, running it on 1000 samples remains a real possibility."
   ]
  },
  {
   "cell_type": "markdown",
   "id": "1666e806-0bf9-4afb-8ec2-f9ea55dd0202",
   "metadata": {},
   "source": [
    "## Size of Compressed Revision"
   ]
  },
  {
   "cell_type": "markdown",
   "id": "91f4c551-20fc-4f02-95f8-e3381dc60a53",
   "metadata": {},
   "source": [
    "Where did this come from? Why would we care about the compressed size?\n",
    "\n",
    "At some level, we'd like to measure how the total amount of information in a project grows over time.\n",
    "It's hard to measure information in a program or a project, but removing redundancy moves us in that direction,\n",
    "and compression is an approach to removing redundancy.\n",
    "(If you want to read more about this, look up \"Kolmogorov Complexity.\")\n",
    "\n",
    "We might not bother to try this if it were hard to implement, but it's not:\n",
    "let `tar` collect and compress all the files, excluding the `.git/` directory, send that compressed stream to `stdout`, and count the bytes."
   ]
  },
  {
   "cell_type": "code",
   "execution_count": null,
   "id": "92de0b44-1a80-44d7-a156-d9aa2f843408",
   "metadata": {},
   "outputs": [],
   "source": [
    "compressed-size() { git checkout -q ${1:-HEAD}; tar --exclude-vcs -Jcf - . | wc -c; }"
   ]
  },
  {
   "cell_type": "code",
   "execution_count": null,
   "id": "df4cdd80-efa6-43f4-91d5-79a69253503c",
   "metadata": {},
   "outputs": [],
   "source": [
    "time run_on_timestamped_samples 10 compressed-size"
   ]
  },
  {
   "cell_type": "markdown",
   "id": "ec93fcde-6c05-4dfe-b0ab-ddd157a57e45",
   "metadata": {},
   "source": [
    "That's even slower, about half the speed of the total file size calculation, but still usable."
   ]
  },
  {
   "cell_type": "code",
   "execution_count": null,
   "id": "4d3ea442-e379-4ce4-b20f-a8d14e936f06",
   "metadata": {},
   "outputs": [],
   "source": [
    "(( elapsed_seconds = SECONDS - begin_notebook ))\n",
    "(( minutes = elapsed_seconds / 60 ))\n",
    "seconds=$((elapsed_seconds - minutes*60))\n",
    "printf \"Total elapsed time %02d:%02d\\n\" $minutes $seconds"
   ]
  }
 ],
 "metadata": {
  "kernelspec": {
   "display_name": "Bash",
   "language": "bash",
   "name": "bash"
  },
  "language_info": {
   "codemirror_mode": "shell",
   "file_extension": ".sh",
   "mimetype": "text/x-sh",
   "name": "bash"
  }
 },
 "nbformat": 4,
 "nbformat_minor": 5
}

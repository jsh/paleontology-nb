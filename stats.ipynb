{
 "cells": [
  {
   "cell_type": "markdown",
   "metadata": {},
   "source": [
    "# Exploring repositories."
   ]
  },
  {
   "cell_type": "markdown",
   "metadata": {},
   "source": [
    "Let's explore repositories a bit.\n",
    "We'll begin with a toy repository, `toy`."
   ]
  },
  {
   "cell_type": "code",
   "execution_count": null,
   "metadata": {},
   "outputs": [],
   "source": [
    "[ -d toy ] || git clone https://github.com/jsh/toy  # make a local clone, unless it's already there.\n",
    "pushd toy"
   ]
  },
  {
   "cell_type": "markdown",
   "metadata": {},
   "source": [
    "We can start by listing all commits and how they relate to one another.\n",
    "The command `git log --all --decorate --oneline --graph` does this for us with an ASCII graph.\n",
    "\n",
    "There are GUI tools that provide such information, too, but Git will give it to you right from the command line. \n",
    "You don't have to install any apps, and it works on terminals connected to remote servers, \n",
    "where may not even be able to install applications and may not have access to anything but out-of-the-box Git.\n",
    "\n",
    "Unfortunately, running this command requires remembering four options, which you'll probably have to look up. \n",
    "(I've used the mnemonic \"Log-A-DOG). Plus, it's a lot of typing.\n",
    "\n",
    "You can save wear and tear on your fingers and your brain by defining a Git alias, like this:"
   ]
  },
  {
   "cell_type": "code",
   "execution_count": null,
   "metadata": {
    "vscode": {
     "languageId": "shellscript"
    }
   },
   "outputs": [],
   "source": [
    "git config --global alias.lol \"log --all --decorate --oneline --graph\""
   ]
  },
  {
   "cell_type": "markdown",
   "metadata": {},
   "source": [
    "Once defined, you can just type `git lol` "
   ]
  },
  {
   "cell_type": "code",
   "execution_count": null,
   "metadata": {
    "vscode": {
     "languageId": "shellscript"
    }
   },
   "outputs": [],
   "source": [
    "git lol"
   ]
  },
  {
   "cell_type": "markdown",
   "metadata": {},
   "source": [
    "When you forget how to define this alias, an internet search for `git lol` will tell you in a trice.\n",
    "It's in common use."
   ]
  },
  {
   "cell_type": "markdown",
   "metadata": {},
   "source": [
    "As you can see, it's tiny repo, with only a few commits.  How many?"
   ]
  },
  {
   "cell_type": "code",
   "execution_count": null,
   "metadata": {
    "vscode": {
     "languageId": "shellscript"
    }
   },
   "outputs": [],
   "source": [
    "git rev-list --all | wc -l"
   ]
  },
  {
   "cell_type": "markdown",
   "metadata": {},
   "source": [
    "And who did them?"
   ]
  },
  {
   "cell_type": "code",
   "execution_count": null,
   "metadata": {
    "vscode": {
     "languageId": "shellscript"
    }
   },
   "outputs": [],
   "source": [
    "git shortlog -ns --all"
   ]
  },
  {
   "cell_type": "markdown",
   "metadata": {},
   "source": [
    "Aha. Three authors. Nine commits.\n",
    "To concentrate on the current line of development, just change `--all` to `HEAD`.\n",
    "Usually, we'll be interested in `master`.\n",
    "\n",
    "We'll make the output more readable by using abbreviated commits, just long enough to be unique.\n",
    "It's also convenient to reverse the order, starting our commit list with the very first commit.\n",
    "\n",
    "Git can supply all this, but requires a command-name and some options that are annoying to have to look up.\n",
    "Bash lets you wrap such things into functions, both to ease your typing burden and so you don't have to keep all those options in your head.\n",
    "\n",
    "Here's our function:"
   ]
  },
  {
   "cell_type": "code",
   "execution_count": null,
   "metadata": {
    "vscode": {
     "languageId": "shellscript"
    }
   },
   "outputs": [],
   "source": [
    "commits() { local top=${1:-HEAD}; git rev-list --abbrev-commit --reverse $top; }\n",
    "commits"
   ]
  },
  {
   "cell_type": "markdown",
   "metadata": {},
   "source": [
    "Here, we're reporting the list of revisions leading up to the commit specified by the first argument to `commits()`\n",
    "\n",
    "The shell idiom, `${1:-value}` means \"use `HEAD` as the first argument to `commits()`, if none is specified.\n"
   ]
  },
  {
   "cell_type": "markdown",
   "metadata": {},
   "source": [
    "Notice that we can still even pass in `--all`!"
   ]
  },
  {
   "cell_type": "code",
   "execution_count": null,
   "metadata": {
    "vscode": {
     "languageId": "shellscript"
    }
   },
   "outputs": [],
   "source": [
    "echo commits in master branch: $(commits | wc -l)\n",
    "echo all commits: $(commits --all | wc -l)"
   ]
  },
  {
   "cell_type": "markdown",
   "metadata": {},
   "source": [
    "If for nothing other than practice, let's turn counting commits into a function."
   ]
  },
  {
   "cell_type": "code",
   "execution_count": null,
   "metadata": {
    "vscode": {
     "languageId": "shellscript"
    }
   },
   "outputs": [],
   "source": [
    "ncommits() { commits $1 | wc -l; }\n",
    "ncommits"
   ]
  },
  {
   "cell_type": "code",
   "execution_count": null,
   "metadata": {
    "vscode": {
     "languageId": "shellscript"
    }
   },
   "outputs": [],
   "source": [
    "ncommitters() { git shortlog -ns --all | wc -l; }\n",
    "ncommitters"
   ]
  },
  {
   "cell_type": "markdown",
   "metadata": {},
   "source": [
    "To list the files in a tree, we can do `find . -type f | grep -vF /.git/`, which lists all the current files,\n",
    "skipping Git's database, which is under the hidden, `.git` directory.  (You can skip over the database with special arguments to `find`, but they're harder to type and remember than this simple pipeline.)\n",
    "\n",
    "Let's also make a shell function for that.\n",
    "\n",
    "For this quick-and-dirty listing, we'll also ignore any files that someone's named with embedded blanks -- filenames such as \"this name needed more thought.\" You won't see these very often, but we threw in a `grep -v ' '` filter to ignore them after we stumbled over a dozen while doing this notebook. Aaaargh."
   ]
  },
  {
   "cell_type": "code",
   "execution_count": null,
   "metadata": {
    "vscode": {
     "languageId": "shellscript"
    }
   },
   "outputs": [],
   "source": [
    "files() { find . -type f | grep -vF /.git/ | grep -v ' '; }\n",
    "files"
   ]
  },
  {
   "cell_type": "markdown",
   "metadata": {},
   "source": [
    "Well, that was easy. Now let's count the number of files in each version."
   ]
  },
  {
   "cell_type": "code",
   "execution_count": null,
   "metadata": {
    "vscode": {
     "languageId": "shellscript"
    }
   },
   "outputs": [],
   "source": [
    "for commit in $(commits); do git checkout --quiet $commit; files | wc -l; done"
   ]
  },
  {
   "cell_type": "markdown",
   "metadata": {},
   "source": [
    "We could make this slightly prettier with a fancier function,"
   ]
  },
  {
   "cell_type": "code",
   "execution_count": null,
   "metadata": {
    "vscode": {
     "languageId": "shellscript"
    }
   },
   "outputs": [],
   "source": [
    "nfiles() { files | wc -l; }\n",
    "nfiles"
   ]
  },
  {
   "cell_type": "markdown",
   "metadata": {},
   "source": [
    "and a prettier loop."
   ]
  },
  {
   "cell_type": "code",
   "execution_count": null,
   "metadata": {
    "vscode": {
     "languageId": "shellscript"
    }
   },
   "outputs": [],
   "source": [
    "for commit in $(commits); do git checkout --quiet $commit; echo $(nfiles) $commit; done"
   ]
  },
  {
   "cell_type": "markdown",
   "metadata": {},
   "source": [
    "How many total lines in each of those versions? Time for another little function."
   ]
  },
  {
   "cell_type": "code",
   "execution_count": null,
   "metadata": {
    "vscode": {
     "languageId": "shellscript"
    }
   },
   "outputs": [],
   "source": [
    "nlines() { files | xargs wc -l | grep total |  sed 's/total//'; }\n",
    "nlines"
   ]
  },
  {
   "cell_type": "code",
   "execution_count": null,
   "metadata": {
    "vscode": {
     "languageId": "shellscript"
    }
   },
   "outputs": [],
   "source": [
    "for commit in $(commits); do git checkout --quiet $commit; echo $(nlines) $commit; done"
   ]
  },
  {
   "cell_type": "markdown",
   "metadata": {},
   "source": [
    "And, finally, how many authors?"
   ]
  },
  {
   "cell_type": "code",
   "execution_count": null,
   "metadata": {
    "vscode": {
     "languageId": "shellscript"
    }
   },
   "outputs": [],
   "source": [
    "nauthors() { git shortlog -ns ${1:-HEAD} | wc -l; }\n",
    "nauthors"
   ]
  },
  {
   "cell_type": "code",
   "execution_count": null,
   "metadata": {
    "vscode": {
     "languageId": "shellscript"
    }
   },
   "outputs": [],
   "source": [
    "for commit in $(commits); do git checkout --quiet $commit; echo $(nauthors) $commit; done"
   ]
  },
  {
   "cell_type": "markdown",
   "metadata": {},
   "source": [
    "A lot of bang for the buck here. Plenty of information without much work at all -- just a few, one-line shell functions."
   ]
  },
  {
   "cell_type": "markdown",
   "metadata": {},
   "source": [
    "Looping over every commit is a lot of typing, so, lets make a function for that, too -- this time, a function that takes another function for its argument!\n",
    "Also, after checking out the last version, we'll be in \"detached HEAD\" state, which is annoying.\n",
    "For now, we'll finish up by going back to `master`.\n",
    " \n",
    "Spreading the definition out over a few lines leaves something easier to read."
   ]
  },
  {
   "cell_type": "code",
   "execution_count": null,
   "metadata": {
    "vscode": {
     "languageId": "shellscript"
    }
   },
   "outputs": [],
   "source": [
    "every_commit() { \n",
    "    local func=$1 \n",
    "    for commit in $(commits); do      # for every commit, first to last\n",
    "        git checkout --quiet $commit  # check out the commit\n",
    "        echo $($func) $commit         # run the function, and report the result with the commit's SHA1\n",
    "    done\n",
    "    git checkout --quiet master       # get back to where you once belonged\n",
    "}\n",
    "\n",
    "every_commit nauthors"
   ]
  },
  {
   "cell_type": "markdown",
   "metadata": {},
   "source": [
    "The shell is a toolkit for quick, command-line exploratory data analysis (EDA), with few peers.\n",
    "\n",
    "We could make each of these functions more flexible and robust, and could even improve their performance by re-writing them in a language like Python, but what we've written is enough begin pawing through repos. We're making what marketing would call an MVP: a Minimum Viable Product.\n",
    "\n",
    "Paraphrasing Tom Christiansen, \"What's the difference in speed between a program in bash and a program in Java? About two weeks.\""
   ]
  },
  {
   "cell_type": "markdown",
   "metadata": {},
   "source": [
    "## Commits Over Time"
   ]
  },
  {
   "cell_type": "markdown",
   "metadata": {},
   "source": [
    "One straghtforward question to ask is how much time elapses between commits.\n",
    "For this, we need the date of a commit.\n",
    "\n",
    "We'll ask for it in seconds since the Unix epoch (1970/01/01 00:00:00 UTC)"
   ]
  },
  {
   "cell_type": "code",
   "execution_count": null,
   "metadata": {
    "vscode": {
     "languageId": "shellscript"
    }
   },
   "outputs": [],
   "source": [
    "\n",
    "commit_date() { git log -1 --format=%ct $1; }\n",
    "commit_date HEAD"
   ]
  },
  {
   "cell_type": "markdown",
   "metadata": {},
   "source": [
    "Why use this huge, unintuitive number? We'll often want to know elapsed time: the difference between two dates. The shell only does integer arithmetic, and seconds-since-the-epoch gives us integers that we can subtract from one another.\n",
    "\n",
    "Here's a function to report the difference in seconds between two commits. Notice, order matters!"
   ]
  },
  {
   "cell_type": "code",
   "execution_count": null,
   "metadata": {
    "vscode": {
     "languageId": "shellscript"
    }
   },
   "outputs": [],
   "source": [
    "seconds_between (){ echo $(($(commit_date $2) - $(commit_date $1))); }\n",
    "seconds_between HEAD~2 HEAD; seconds_between HEAD HEAD~2"
   ]
  },
  {
   "cell_type": "markdown",
   "metadata": {},
   "source": [
    "And here's `relative_date`: the number of seconds since the first commit.\n"
   ]
  },
  {
   "cell_type": "code",
   "execution_count": null,
   "metadata": {
    "vscode": {
     "languageId": "shellscript"
    }
   },
   "outputs": [],
   "source": [
    "first_commit=$(commits | head -1)   # find this once, and save the SHA1 in a global\n",
    "relative_date() { seconds_between $first_commit $1; }"
   ]
  },
  {
   "cell_type": "code",
   "execution_count": null,
   "metadata": {
    "vscode": {
     "languageId": "shellscript"
    }
   },
   "outputs": [],
   "source": [
    "relative_date HEAD~2; relative_date HEAD; seconds_between HEAD~2 HEAD"
   ]
  },
  {
   "cell_type": "markdown",
   "metadata": {},
   "source": [
    "Now we can look at the commit dates for every commit in a repo with a single function call."
   ]
  },
  {
   "cell_type": "code",
   "execution_count": null,
   "metadata": {
    "vscode": {
     "languageId": "shellscript"
    }
   },
   "outputs": [],
   "source": [
    "every_commit relative_date"
   ]
  },
  {
   "cell_type": "markdown",
   "metadata": {},
   "source": [
    "For a big repo, this could be a tad slow and generate more data than we really want.\n",
    "How much? Well, the Git repo, https://github/git/git, has over 70,000 commits, and the linux repo, https://github/torvalds/linux, has over 1.2 million.\n",
    "\n",
    "Let's filter the list of commits by only taking every *Nth* commit."
   ]
  },
  {
   "cell_type": "code",
   "execution_count": null,
   "metadata": {
    "vscode": {
     "languageId": "shellscript"
    }
   },
   "outputs": [],
   "source": [
    "only_every() { awk \"(NR-1)%$1 == 0\"; }\n",
    "for i in {0..10}; do echo $i; done | only_every 3\n"
   ]
  },
  {
   "cell_type": "markdown",
   "metadata": {},
   "source": [
    "This lets us tweak `every_commit()`."
   ]
  },
  {
   "cell_type": "code",
   "execution_count": null,
   "metadata": {
    "vscode": {
     "languageId": "shellscript"
    }
   },
   "outputs": [],
   "source": [
    "commits_by() { \n",
    "    incr=${1:-1}  # report every commit by default\n",
    "    if [ $# -eq 2 ]; then inc=$1; shift; fi\n",
    "    local func=$1\n",
    "    for commit in $(commits | only_every $incr); do  # only report every $incr commit \n",
    "        git checkout --quiet $commit\n",
    "        echo $($func) $commit\n",
    "    done\n",
    "    git checkout --quiet master \n",
    "}\n",
    "\n",
    "commits_by 10 relative_date"
   ]
  },
  {
   "cell_type": "markdown",
   "metadata": {},
   "source": [
    "And if we want a table of the date of every 3rd commit?"
   ]
  },
  {
   "cell_type": "code",
   "execution_count": null,
   "metadata": {
    "vscode": {
     "languageId": "shellscript"
    }
   },
   "outputs": [],
   "source": [
    "dates_of_commit_numbers() { \n",
    "    local incr=$1 \n",
    "    commits_by $incr relative_date |\n",
    "        nl -v 0 -i $incr   # number the lines, starting at 0, by increments of $incr\n",
    "}\n",
    "\n",
    "dates_of_commit_numbers 3"
   ]
  },
  {
   "cell_type": "markdown",
   "metadata": {},
   "source": [
    "Writing tiny functions gives us flexibility.\n",
    "\n",
    "For example, instead we don't want the SHA1s, and we want the second column first, so the columns are in the order *date commit-number*.  Oh, and instead of specifying the increment, let's specify the number of evenly-spaced data points that we want, and *calculate* the increment."
   ]
  },
  {
   "cell_type": "code",
   "execution_count": null,
   "metadata": {
    "vscode": {
     "languageId": "shellscript"
    }
   },
   "outputs": [],
   "source": [
    "commit_number_by_date() {\n",
    "    local ncmts=$(ncommits)       # repo-specific\n",
    "    local npoints=${1:-$ncmts}       # by default, do every commit\n",
    "    (( incr = ncmts/npoints ))\n",
    "    local first_commit=$(commits | head -1)   # find this once, and save the SHA1 in a global\n",
    "    commits_by $incr relative_date |\n",
    "        nl -v 0 -i $incr |   # number the lines, starting at 0, by increments of $incr\n",
    "        awk '{print $2, $1}'\n",
    "}\n",
    "\n",
    "commit_number_by_date 5"
   ]
  },
  {
   "cell_type": "markdown",
   "metadata": {},
   "source": [
    "The shell can only do integer division, so the number of points reported is off-by-one. Such is life. For quick-and-dirty exploration, we can settle for that."
   ]
  },
  {
   "cell_type": "markdown",
   "metadata": {},
   "source": [
    "## A Real Repo: Git Itself."
   ]
  },
  {
   "cell_type": "markdown",
   "metadata": {},
   "source": [
    "The first Git repo was the repo for the Git source code.\n",
    "It was created as soon as Git could host its own source code, three days after Linus announced the project, and has been kept there ever since. It has every committed version of Git, ever, and is the Pre-Cambrian shale of Git version control.\n",
    "\n",
    "Let's take a peek."
   ]
  },
  {
   "cell_type": "code",
   "execution_count": null,
   "metadata": {
    "vscode": {
     "languageId": "shellscript"
    }
   },
   "outputs": [],
   "source": [
    "popd  # get back out of scratchy\n",
    "[ -d git ] || git clone https://github.com/git/git.git # clone Git's source-code repo if it's not already there\n",
    "cd git"
   ]
  },
  {
   "cell_type": "code",
   "execution_count": null,
   "metadata": {
    "vscode": {
     "languageId": "shellscript"
    }
   },
   "outputs": [],
   "source": [
    "echo Git has had \n",
    "echo $(ncommits) commits\n",
    "echo $(ncommitters) committers\n",
    "echo Git has \n",
    "echo $(nfiles) files\n",
    "echo $(nlines) lines"
   ]
  },
  {
   "cell_type": "markdown",
   "metadata": {},
   "source": [
    "Let's try someting complex, like `commit_number_by_date()`."
   ]
  },
  {
   "cell_type": "code",
   "execution_count": null,
   "metadata": {},
   "outputs": [],
   "source": [
    "start=$SECONDS\n",
    "commit_number_by_date 100 | tail\n",
    "echo finding timestamps of 100 equally-spaced commits from git \n",
    "echo takes $(( SECONDS - start )) seconds"
   ]
  },
  {
   "cell_type": "markdown",
   "metadata": {},
   "source": [
    "This is no speed daemon, so performance tuning is a future goal, but it's useable. But what might we do with such data?\n",
    "One obvious thing to try is to see how one varies with the other. Are commits fast and furious at first, slowing down as time goes on?\n",
    "Do they start gradually, then pick up the pace?\n",
    "Do they race faster and faster at first, but then plateau as Git matures?\n",
    "\n",
    "A first step might be to do a least-squares fit of commit number against the timestamp.\n",
    "\n",
    "The scales of the numbers aren't very comparable, so let's start by piping the output of `commit_number_by_date()` through a filter to scale it. \n",
    "\n",
    "Right now, the timestamps are in seconds since the first commit. We could turn seconds into weeks by dividing the timestamp by 60 * 60 * 24 * 7 (seconds/minute * minutes/hour * hours/day * days/week = seconds/week)."
   ]
  },
  {
   "cell_type": "code",
   "execution_count": null,
   "metadata": {},
   "outputs": [],
   "source": [
    "commit_number_by_date 10 | awk 'BEGIN {spw = 60*60*24*7} {print $1/spw, $2}'"
   ]
  },
  {
   "cell_type": "markdown",
   "metadata": {},
   "source": [
    "Git now has about 1000 weeks of history, so we could get a weekly history with `commit_number_by_date 1000`,\n",
    "but we still need to do curve fitting and measure goodness-of-fit to whatever curve we fit.\n",
    "\n",
    "This is not a job for the shell."
   ]
  },
  {
   "cell_type": "markdown",
   "metadata": {},
   "source": [
    "## Fitting Curves to Data"
   ]
  },
  {
   "cell_type": "markdown",
   "metadata": {},
   "source": [
    "One easy option for exploring curve-fitting is spreadsheets. \n",
    "It's easy to import columnar data into Google Sheets, graph it, then use various models to get best-fits of curves like polynomials,\n",
    "logs and exponentials to some or all of your data to see what models you like best.\n",
    "\n",
    "For the moment, let's do something simpler: find the least-squares fit of a line to our data, and use some standard goodness-of-fit measure to see how wildly the commit data varies from that straight line.\n",
    "\n",
    "Even this is not a job for bash. Python seems like a reasonable choice, but we don't want this notebook to turn into a course on Python,\n",
    "so we'll just ask ChatGPT to write a program for us.  It offers up the program `lsfit.py`, which we include in our repository.\n",
    "\n",
    "Let's try it."
   ]
  },
  {
   "cell_type": "code",
   "execution_count": null,
   "metadata": {},
   "outputs": [],
   "source": [
    "commit_number_by_date 1000 | awk 'BEGIN {spw = 60*60*24*7} {print $1/spw, $2}' | ../lsfit.py"
   ]
  },
  {
   "cell_type": "markdown",
   "metadata": {},
   "source": [
    "Goodness!  The fit to a straight line is nearly perfect.\n",
    "\n",
    "Think for a second about what this means:\n",
    "\n",
    "1. Since its inception, the commit rate to the Git repository hasn't varied.\n",
    "1. Predicting how many commits there will be a week from now or calculating how many there were a year ago is simple arithmetic.\n",
    "1. Because commit number and date are linearly related, we can use the commit number as a time stamp.\n",
    "To see how some other quantity, like the number of committers or the number of files, varies over time, we can just ask how it varies with commit number."
   ]
  }
 ],
 "metadata": {
  "kernelspec": {
   "display_name": "Bash",
   "language": "bash",
   "name": "bash"
  },
  "language_info": {
   "codemirror_mode": "shell",
   "file_extension": ".sh",
   "mimetype": "text/x-sh",
   "name": "bash"
  }
 },
 "nbformat": 4,
 "nbformat_minor": 4
}

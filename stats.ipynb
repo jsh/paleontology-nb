{
 "cells": [
  {
   "cell_type": "code",
   "execution_count": null,
   "metadata": {},
   "outputs": [],
   "source": [
    "begin_notebook=$SECONDS"
   ]
  },
  {
   "cell_type": "markdown",
   "metadata": {},
   "source": [
    "# Introduction"
   ]
  },
  {
   "cell_type": "markdown",
   "metadata": {},
   "source": [
    "I made this notebook for four reasons. To wit:\n",
    "\n",
    "1. If you don't program in bash yet, this notebook should encourage you to try.\n",
    "1. If you do program in bash, you'll learn some things you don't know.\n",
    "   One of them is what a good environment for bash development Jupyter Notebooks provide.\n",
    "1. If you're teaching people how to program in bash, here's another resource.\n",
    "1. If you've never done software paleontology -- exploring the large-scale structure of software project histories -- this will get you thinking about it."
   ]
  },
  {
   "cell_type": "markdown",
   "metadata": {},
   "source": [
    "Let's explore repositories a bit.\n",
    "We'll begin with a toy repository, `toy`."
   ]
  },
  {
   "cell_type": "markdown",
   "metadata": {},
   "source": [
    "# Exploring Repositories"
   ]
  },
  {
   "cell_type": "code",
   "execution_count": null,
   "metadata": {},
   "outputs": [],
   "source": [
    "[ -d toy ] || git clone https://github.com/jsh/toy  # make a local clone, unless it's already there.\n",
    "pushd toy"
   ]
  },
  {
   "cell_type": "markdown",
   "metadata": {},
   "source": [
    "We can start by listing all commits and how they relate to one another.\n",
    "The command `git log --all --decorate --oneline --graph` does this for us with an ASCII graph.\n",
    "\n",
    "There are GUI tools that provide such information, too, but Git will give it to you right from the command line. \n",
    "You don't have to install any apps, and it works on terminals connected to remote servers, \n",
    "where may not even be able to install applications and may not have access to anything but out-of-the-box Git.\n",
    "\n",
    "Unfortunately, running this command requires remembering four options, which you'll probably have to look up. \n",
    "(I've used the mnemonic \"Log-A-DOG). Plus, it's a lot of typing.\n",
    "\n",
    "You can save wear and tear on your fingers and your brain by defining a Git alias, like this:"
   ]
  },
  {
   "cell_type": "code",
   "execution_count": null,
   "metadata": {
    "vscode": {
     "languageId": "shellscript"
    }
   },
   "outputs": [],
   "source": [
    "git config --global alias.lol \"log --all --decorate --oneline --graph\""
   ]
  },
  {
   "cell_type": "markdown",
   "metadata": {},
   "source": [
    "Once defined, you can just type `git lol` "
   ]
  },
  {
   "cell_type": "code",
   "execution_count": null,
   "metadata": {
    "scrolled": true,
    "vscode": {
     "languageId": "shellscript"
    }
   },
   "outputs": [],
   "source": [
    "git lol"
   ]
  },
  {
   "cell_type": "markdown",
   "metadata": {},
   "source": [
    "When you forget how to define this alias, an internet search for `git lol` will tell you in a trice.\n",
    "It's in common use."
   ]
  },
  {
   "cell_type": "markdown",
   "metadata": {},
   "source": [
    "As you can see, it's tiny repo, with only a few commits.  How many?"
   ]
  },
  {
   "cell_type": "code",
   "execution_count": null,
   "metadata": {
    "vscode": {
     "languageId": "shellscript"
    }
   },
   "outputs": [],
   "source": [
    "git rev-list --all | wc -l  # a pipeline that counts the number of lines"
   ]
  },
  {
   "cell_type": "markdown",
   "metadata": {},
   "source": [
    "And who did them?"
   ]
  },
  {
   "cell_type": "code",
   "execution_count": null,
   "metadata": {
    "vscode": {
     "languageId": "shellscript"
    }
   },
   "outputs": [],
   "source": [
    "git shortlog -ns --all"
   ]
  },
  {
   "cell_type": "markdown",
   "metadata": {},
   "source": [
    "Aha. Three authors. Nine commits.\n",
    "To concentrate on the current line of development, just change `--all` to `HEAD`.\n",
    "Usually, we'll be interested in the default, `master` branch. \n",
    "\n",
    "Some projects, in a paroxysm of political correctness, have named these `main`, insisting that `master` can only be a reference to either chattel slavery or to men in \"the patriarchy.\" Accordingly, we'll define a function to return the name of the current branch."
   ]
  },
  {
   "cell_type": "code",
   "execution_count": null,
   "metadata": {},
   "outputs": [],
   "source": [
    "current_branch() { git symbolic-ref --short HEAD; }"
   ]
  },
  {
   "cell_type": "markdown",
   "metadata": {},
   "source": [
    "We'll make the output more readable by using abbreviated commits, just long enough to be unique.\n",
    "It's also convenient to reverse the order, starting our commit list with the very first commit.\n",
    "\n",
    "Git can supply all this, but requires a command-name and some options that are annoying to have to look up.\n",
    "Bash lets you wrap such things into functions, both to ease your typing burden and so you don't have to keep all those options in your head.\n",
    "\n",
    "Here's our function:"
   ]
  },
  {
   "cell_type": "markdown",
   "metadata": {},
   "source": [
    "## Shell Functions Save Your Brain and Your Fingers"
   ]
  },
  {
   "cell_type": "markdown",
   "metadata": {},
   "source": [
    "Here's our first function."
   ]
  },
  {
   "cell_type": "code",
   "execution_count": null,
   "metadata": {
    "vscode": {
     "languageId": "shellscript"
    }
   },
   "outputs": [],
   "source": [
    "commits() { local top=${1:-HEAD}; git rev-list --abbrev-commit --reverse $top; } # define a function\n",
    "commits # and run it"
   ]
  },
  {
   "cell_type": "markdown",
   "metadata": {},
   "source": [
    "`commits()` reports the list of revisions leading up to the commit specified by its first argument.\n",
    "Call it with too many arguments? bash doesn't care. `commits()` only looks at the first.\n",
    "Call it with too few?\n",
    "The shell idiom, `${1:-value}` means \"use `HEAD` as the default, first argument."
   ]
  },
  {
   "cell_type": "markdown",
   "metadata": {},
   "source": [
    "Notice that we can still even pass in `--all`!"
   ]
  },
  {
   "cell_type": "code",
   "execution_count": null,
   "metadata": {
    "vscode": {
     "languageId": "shellscript"
    }
   },
   "outputs": [],
   "source": [
    "echo commits in current branch: $(commits $(current_branch) | wc -l)\n",
    "echo all commits: $(commits --all | wc -l)"
   ]
  },
  {
   "cell_type": "markdown",
   "metadata": {},
   "source": [
    "The expression `$(some command or pipeline)` says, \"Run the command or pipeline, and substitute the result here before trying to run the command line it's part of.\"\n",
    "\n",
    "In other words, the first of these runs the pipeline `commits $(current_branch) | wc -l`, which generates an integer -- the number of commits in the current branch -- and then does \"echo commits in current branch: 9\".\n",
    "\n",
    "The left side of that pipeline, `commits $(current_branch)`, runs `current_branch` to get the branch name, then makes that name the argument of `commits()`."
   ]
  },
  {
   "cell_type": "markdown",
   "metadata": {},
   "source": [
    "If for nothing other than practice, let's turn counting the number of commits into a function."
   ]
  },
  {
   "cell_type": "code",
   "execution_count": null,
   "metadata": {
    "vscode": {
     "languageId": "shellscript"
    }
   },
   "outputs": [],
   "source": [
    "ncommits() { commits $1 | wc -l; }\n",
    "echo There have been $(ncommits) commits"
   ]
  },
  {
   "cell_type": "markdown",
   "metadata": {},
   "source": [
    "How about the number of committers?"
   ]
  },
  {
   "cell_type": "code",
   "execution_count": null,
   "metadata": {
    "vscode": {
     "languageId": "shellscript"
    }
   },
   "outputs": [],
   "source": [
    "committers() { git shortlog -ns ${1:-HEAD}; }\n",
    "ncommitters() { committers $1 | wc -l; }\n",
    "echo There have been $(ncommitters) committers"
   ]
  },
  {
   "cell_type": "markdown",
   "metadata": {},
   "source": [
    "To list the files in a tree, we could do `find . -type f | grep -vF /.git/`, which lists all the current files,\n",
    "skipping Git's database, which is under the hidden, `.git` directory.  (You can skip over the database with special arguments to `find`, but they're harder to type and remember than this simple pipeline.)\n",
    "\n",
    "Let's also make a shell function for that.\n",
    "\n",
    "For this quick-and-dirty listing, we'll also ignore any files that someone's named with embedded blanks -- filenames such as \"this name needed more thought.\" You won't see these very often, but we threw in a `grep -v ' '` filter to ignore them after we stumbled over a dozen while doing this notebook. Aaaargh."
   ]
  },
  {
   "cell_type": "code",
   "execution_count": null,
   "metadata": {
    "vscode": {
     "languageId": "shellscript"
    }
   },
   "outputs": [],
   "source": [
    "files() { find . -type f | grep -vF /.git/ | grep -v ' '; }\n",
    "files"
   ]
  },
  {
   "cell_type": "markdown",
   "metadata": {},
   "source": [
    "A drawback of this definition is that it only reports on the current, checked-out commit.\n",
    "For any other commit, you'd need to do a `git checkout` perform the find, and then restore the original commit.\n",
    "All those take time.\n",
    "\n",
    "Luckily, there's a `git` subcommand that will do the trick: `git ls-files`."
   ]
  },
  {
   "cell_type": "code",
   "execution_count": null,
   "metadata": {},
   "outputs": [],
   "source": [
    "# count the files in the named commit without checking them out\n",
    "files() { git ls-tree -r --full-tree --name-only ${1:-HEAD}; }\n",
    "nfiles() { files $1 | wc -l; }\n",
    "echo there are currently $(nfiles) files\n",
    "first_revision=$(git rev-list --all | tail -1)\n",
    "echo the first revision had $(nfiles $first_revision)"
   ]
  },
  {
   "cell_type": "markdown",
   "metadata": {},
   "source": [
    "Well, that was easy! Now let's count the number of files in each version."
   ]
  },
  {
   "cell_type": "code",
   "execution_count": null,
   "metadata": {
    "vscode": {
     "languageId": "shellscript"
    }
   },
   "outputs": [],
   "source": [
    "for commit in $(commits); do nfiles $commit; done"
   ]
  },
  {
   "attachments": {},
   "cell_type": "markdown",
   "metadata": {},
   "source": [
    "We could even label each of these with its SHA1, like this:"
   ]
  },
  {
   "cell_type": "code",
   "execution_count": null,
   "metadata": {
    "scrolled": true,
    "vscode": {
     "languageId": "shellscript"
    }
   },
   "outputs": [],
   "source": [
    "for commit in $(commits); do echo $commit $(nfiles $commit); done"
   ]
  },
  {
   "cell_type": "markdown",
   "metadata": {},
   "source": [
    "#### Sidebar: How can two commits have the same number of files?\n",
    "Commits 4087aa7 and ece03c0 have the same number of files. Can that be right? Certainly.\n",
    "Maybe, ece03c0 just edited one of the files. Or maybe it deleted a file and added another.\n",
    "In fact, you can see that a commit could even have fewer files than its parent."
   ]
  },
  {
   "cell_type": "code",
   "execution_count": null,
   "metadata": {},
   "outputs": [],
   "source": [
    "git log -1 ece03c0"
   ]
  },
  {
   "cell_type": "markdown",
   "metadata": {},
   "source": [
    "## More Little Functions"
   ]
  },
  {
   "cell_type": "markdown",
   "metadata": {},
   "source": [
    "How big is each version? Time for some other little functions."
   ]
  },
  {
   "cell_type": "code",
   "execution_count": null,
   "metadata": {
    "vscode": {
     "languageId": "shellscript"
    }
   },
   "outputs": [],
   "source": [
    "size() { files $2 | grep -vF ' ' | xargs wc $1 | grep total | sed 's/total//'; }\n",
    "nlines() { size -l $1; }\n",
    "nchars() { size -c $1; }\n",
    "echo This commit has $(nlines) lines and $(nchars) characters."
   ]
  },
  {
   "cell_type": "code",
   "execution_count": null,
   "metadata": {
    "vscode": {
     "languageId": "shellscript"
    }
   },
   "outputs": [],
   "source": [
    "for commit in $(commits); do echo $commit $(size -l $commit); done"
   ]
  },
  {
   "cell_type": "markdown",
   "metadata": {},
   "source": [
    "A lot of bang for the buck here. Plenty of information without much work at all -- just a few, one-line shell functions."
   ]
  },
  {
   "cell_type": "markdown",
   "metadata": {},
   "source": [
    "#### Sidebar: Why Doesn't the First Commit Have a Size?"
   ]
  },
  {
   "cell_type": "markdown",
   "metadata": {},
   "source": [
    "\"Wait!\" you're probably saying, \"Where's the size of the first commit?\"\n",
    "In `size()`, we looking for the word `total`, which is the total number of lines in all the files.\n",
    "Well. If there's only one file, `wc` doesn't bother to total anything. The size of the lone file is right there in the output,\n",
    "and there's nothing to sum.\n",
    "\n",
    "There's another edge condition that we haven't yet encountered. For big enough lists of files, `wc` will report more than one total.\n",
    "\n",
    "We could make `size()` handle these conditions, but at the expense of more complex code.\n",
    "Bash's sweet spot is simplicity. It makes exploring easy. After you discover something exciting,\n",
    "go back and make industrial-strength code to make your results precise and bullet-proof.\n",
    "\n",
    "Other languages may be better suited to this later phase. Bash is more the tool of the explorers than the settlers, the Marines not the Army."
   ]
  },
  {
   "cell_type": "markdown",
   "metadata": {},
   "source": [
    "## Looping, Simplified"
   ]
  },
  {
   "cell_type": "markdown",
   "metadata": {},
   "source": [
    "Looping over every commit is a lot of typing, so, lets make a function for that, too -- this time, a function that takes another function for its argument!\n",
    "\n",
    "Spreading the definition out over a few lines leaves something easier to read."
   ]
  },
  {
   "cell_type": "code",
   "execution_count": null,
   "metadata": {
    "scrolled": true,
    "vscode": {
     "languageId": "shellscript"
    }
   },
   "outputs": [],
   "source": [
    "every_commit() { \n",
    "    local func=$1 \n",
    "    for commit in $(commits); do      # for every commit, first to last\n",
    "        echo $commit $($func $commit) # run the function, and report the result with the commit's SHA1\n",
    "    done\n",
    "}\n",
    "\n",
    "every_commit ncommitters"
   ]
  },
  {
   "cell_type": "markdown",
   "metadata": {},
   "source": [
    "Hey, that works!\n",
    "\n",
    "It might present problems, though, if we're working with a repository with thousands or millions of commits.\n",
    "Let's improve on that by only looking at every *N*th commit.\n",
    "\n",
    "First, let's make a simple counter."
   ]
  },
  {
   "cell_type": "code",
   "execution_count": null,
   "metadata": {
    "scrolled": true,
    "vscode": {
     "languageId": "shellscript"
    }
   },
   "outputs": [],
   "source": [
    "only_every() { awk \"(NR-1)%$1 == 0\"; }\n",
    "for i in {0..10}; do echo $i; done | only_every 3"
   ]
  },
  {
   "cell_type": "markdown",
   "metadata": {},
   "source": [
    "If we want to sample *N* equally-spaced commits, how far apart do they need to be?"
   ]
  },
  {
   "cell_type": "code",
   "execution_count": null,
   "metadata": {},
   "outputs": [],
   "source": [
    "mod() { # how many commits do I skip to get $1 points?\n",
    "    local npoints=${1:-1}  # default to every commit\n",
    "    local ncmts=$(ncommits)\n",
    "    echo $(( ncmts/npoints ))\n",
    "}\n",
    "\n",
    "mod 2"
   ]
  },
  {
   "cell_type": "markdown",
   "metadata": {},
   "source": [
    "Next, we'll use these two to identify *N* revisions, equally spaced."
   ]
  },
  {
   "cell_type": "code",
   "execution_count": null,
   "metadata": {},
   "outputs": [],
   "source": [
    "sample_revs() {\n",
    "    git rev-list --reverse --abbrev-commit HEAD |  # listed from first to last\n",
    "        only_every $(mod $1)\n",
    "}\n",
    "sample_revs 3"
   ]
  },
  {
   "cell_type": "markdown",
   "metadata": {},
   "source": [
    "And, finally, here's a function that runs another function on each of those sample commits."
   ]
  },
  {
   "cell_type": "code",
   "execution_count": null,
   "metadata": {},
   "outputs": [],
   "source": [
    "sample_commits() {\n",
    "    local npoints=1 # by default, do every commit\n",
    "    if [ $# -eq 2 ]; then\n",
    "        local npoints=$1\n",
    "        shift # discard first argument\n",
    "    fi\n",
    "    local func=${1:-true}  # do nothing, i.e., only report the commit\n",
    "    for commit in $(sample_revs $npoints); do\n",
    "        echo $commit $($func $commit)\n",
    "    done\n",
    "}\n",
    "sample_commits 3 'echo \", doing something with\" '\n",
    "sample_commits 3 ncommitters"
   ]
  },
  {
   "cell_type": "markdown",
   "metadata": {},
   "source": [
    "Notice here that we're requiring \n",
    "1. functions take a commit argument (though they may ignore it or default to HEAD),\n",
    "1. if a checkout is needed, the function must perform it"
   ]
  },
  {
   "cell_type": "markdown",
   "metadata": {},
   "source": [
    "The shell is a toolkit for quick, command-line exploratory data analysis (EDA), with few peers.\n",
    "\n",
    "We could make each of these functions more flexible and robust, and could even improve their performance by re-writing them in a language like Python, but what we've written is enough begin pawing through repos. We're making what marketing would call an MVP: a Minimum Viable Product.\n",
    "\n",
    "Paraphrasing Tom Christiansen, \"What's the difference in speed between a program in bash and a program in Java? About two weeks.\""
   ]
  },
  {
   "cell_type": "markdown",
   "metadata": {},
   "source": [
    "## Commits Over Time"
   ]
  },
  {
   "cell_type": "markdown",
   "metadata": {},
   "source": [
    "One straghtforward question to ask is how much time elapses between commits.\n",
    "For this, we need the date of a commit.\n",
    "\n",
    "We'll ask for it in seconds since the Unix epoch (1970/01/01 00:00:00 UTC)"
   ]
  },
  {
   "cell_type": "code",
   "execution_count": null,
   "metadata": {
    "vscode": {
     "languageId": "shellscript"
    }
   },
   "outputs": [],
   "source": [
    "commit_time() { git log -1 --format=%ct $1; }\n",
    "commit_time HEAD"
   ]
  },
  {
   "cell_type": "markdown",
   "metadata": {},
   "source": [
    "Why use this huge, unintuitive number? We'll often want to know elapsed time: the difference between two dates. The shell only does integer arithmetic, and seconds-since-the-epoch gives us integers that we can subtract from one another.\n",
    "\n",
    "Here's a function to report the difference in seconds between two commits. Notice, order matters!"
   ]
  },
  {
   "cell_type": "code",
   "execution_count": null,
   "metadata": {
    "vscode": {
     "languageId": "shellscript"
    }
   },
   "outputs": [],
   "source": [
    "seconds_between (){ echo $(($(commit_time $2) - $(commit_time $1))); }\n",
    "seconds_between HEAD~2 HEAD; seconds_between HEAD HEAD~2"
   ]
  },
  {
   "cell_type": "markdown",
   "metadata": {},
   "source": [
    "And here's `relative_date`: the number of seconds since the first commit.\n"
   ]
  },
  {
   "cell_type": "code",
   "execution_count": null,
   "metadata": {
    "vscode": {
     "languageId": "shellscript"
    }
   },
   "outputs": [],
   "source": [
    "relative_date() { \n",
    "    first_commit=$(commits | head -1)   # find this once, and save the SHA1 in a global\n",
    "    seconds_between $first_commit $1; \n",
    "}"
   ]
  },
  {
   "cell_type": "code",
   "execution_count": null,
   "metadata": {
    "vscode": {
     "languageId": "shellscript"
    }
   },
   "outputs": [],
   "source": [
    "relative_date HEAD~2; relative_date HEAD; seconds_between HEAD~2 HEAD"
   ]
  },
  {
   "cell_type": "markdown",
   "metadata": {},
   "source": [
    "Now we can look at the commit dates for every commit in a repo with a single function call."
   ]
  },
  {
   "cell_type": "code",
   "execution_count": null,
   "metadata": {
    "scrolled": true,
    "vscode": {
     "languageId": "shellscript"
    }
   },
   "outputs": [],
   "source": [
    "sample_commits $(ncommits) relative_date"
   ]
  },
  {
   "cell_type": "markdown",
   "metadata": {},
   "source": [
    "Or of a sample of 3, evenly-spaced."
   ]
  },
  {
   "cell_type": "code",
   "execution_count": null,
   "metadata": {
    "vscode": {
     "languageId": "shellscript"
    }
   },
   "outputs": [],
   "source": [
    "timestamps_of_sample_commits() {\n",
    "    sample_size=$1\n",
    "    sample_commits $sample_size relative_date |\n",
    "        nl -v 0 -i $(mod $sample_size)   # number the lines with the commit numbers\n",
    "}\n",
    "\n",
    "timestamps_of_sample_commits 3"
   ]
  },
  {
   "cell_type": "markdown",
   "metadata": {},
   "source": [
    "Writing tiny functions gives us flexibility. Pipelines let us massage the data into any shape.\n",
    "\n",
    "For example, suppose we don't want the SHA1s, and we want the dates first, so the columns are in the order *date commit-number*."
   ]
  },
  {
   "cell_type": "code",
   "execution_count": null,
   "metadata": {
    "scrolled": true,
    "vscode": {
     "languageId": "shellscript"
    }
   },
   "outputs": [],
   "source": [
    "timestamps_of_sample_commits 3 | awk '{print $3, $1}'"
   ]
  },
  {
   "cell_type": "markdown",
   "metadata": {},
   "source": [
    "The shell can only do integer division, so the number of points reported is sometimes a few more or a few less than we asked for. Such is life. For quick-and-dirty exploration, we can settle for that."
   ]
  },
  {
   "cell_type": "markdown",
   "metadata": {},
   "source": [
    "## Performance Tuning: `timestamps_of_sample_commits()`"
   ]
  },
  {
   "cell_type": "markdown",
   "metadata": {},
   "source": [
    "Every time we call `relative_date`, we need to re-calculate the SHA1 of the first commit.\n",
    "For huge repos, this could be a performance hit.\n",
    "\n",
    "Here's a tweak to `timestamp` that uses another shell idiom to get around that cost."
   ]
  },
  {
   "cell_type": "code",
   "execution_count": null,
   "metadata": {},
   "outputs": [],
   "source": [
    "\n",
    "timestamp() {\n",
    "    : ${first_commit:=$(git rev-list $(current_branch) --reverse | head -1)}  # this is magic\n",
    "    seconds_between $first_commit $1\n",
    "}\n",
    "unset first_commit\n",
    "timestamp $(current_branch)\n",
    "timestamp $first_commit"
   ]
  },
  {
   "cell_type": "markdown",
   "metadata": {},
   "source": [
    "You can skip this explanation of the idiom if you want. It's a performance optimization.\n",
    "\n",
    "You've already seen that ${foo:-whatever} means \"The value of `$foo` if it's set, with a default of `whatever` if it's not.\"\n",
    "\n",
    "`${foo:=whatever}` means almost the same thing, but if `$foo` is *not* already set, also set foo to `whatever`.\n",
    "\n",
    "Take, for example, `x=${a:-69}`.  If `a` is already set to `12`, this sets `x` to 12, and `a` stays `12`.\n",
    "If `a` is still unset, this sets `x` to `69`, but `a` is still unset.\n",
    "\n",
    "The statement `x=${a:=69}` does almost the same thing. If `a` is already set to `12`, this sets `x` to 12, and `a` stays `12`.\n",
    "But if `a` is still unset, this sets `x` to `69`, and sets `a` to 69, too.\n",
    "\n",
    "We're almost there. One more trick to explain -- what's that colon doing at the beginning of the line?\n",
    "\n",
    "Colon, `:`, is a command. The shell parses the arguments it's called with, but then throws them away, and does nothing.\n",
    "Wait. What?\n",
    "\n",
    "It's a no-op whose *only* action is whatever comes about because the shell is parsing its arguments. It's the antithesis of functional programming -- we're only calling colon because of its side effects!\n",
    "\n",
    "So, here we are. This command:\n",
    "\n",
    "    : ${first_commit:=$(git rev-list $(current_branch) --reverse | head -1)}  # this is magic\n",
    "\n",
    "looks to see whether first_commit is already set. If not, it sets `first_commit` to the SHA1 of the repo's first commit. From then on, it does nothing at all. This means we can run it every time we call `timestamp()`, but it only sets `$first_commit` the first time it's called.\n",
    "\n",
    "Cool, huh? Let's see it at work."
   ]
  },
  {
   "cell_type": "code",
   "execution_count": null,
   "metadata": {
    "scrolled": true
   },
   "outputs": [],
   "source": [
    "sample_commits 3 timestamp"
   ]
  },
  {
   "cell_type": "markdown",
   "metadata": {},
   "source": [
    "## A Real Repo: Git Itself."
   ]
  },
  {
   "cell_type": "markdown",
   "metadata": {},
   "source": [
    "The first Git repo was the repo for the Git source code.\n",
    "It was created as soon as Git could host its own source code, three days after Linus announced the project, and has been kept there ever since. It has every committed version of Git, ever, and is the Pre-Cambrian shale of Git version control.\n",
    "\n",
    "Let's take a peek."
   ]
  },
  {
   "cell_type": "code",
   "execution_count": null,
   "metadata": {
    "vscode": {
     "languageId": "shellscript"
    }
   },
   "outputs": [],
   "source": [
    "popd  # get back out of toy repo\n",
    "[ -d git ] || git clone https://github.com/git/git.git # clone Git's source-code repo if it's not already there\n",
    "pushd git # and dive in\n",
    "unset first_commit"
   ]
  },
  {
   "cell_type": "code",
   "execution_count": null,
   "metadata": {
    "vscode": {
     "languageId": "shellscript"
    }
   },
   "outputs": [],
   "source": [
    "echo Git has had \n",
    "echo $(ncommits) commits\n",
    "echo $(ncommitters) committers\n",
    "echo Git has \n",
    "echo $(nfiles) files\n",
    "echo $(nlines) lines"
   ]
  },
  {
   "cell_type": "markdown",
   "metadata": {},
   "source": [
    "***Question:** sha1collisiondetection is an empty directory. Git normally ignores these, so how did it get committed?*"
   ]
  },
  {
   "cell_type": "markdown",
   "metadata": {},
   "source": [
    "How about something more complex, like `timestamps_of_sample_commits()`?"
   ]
  },
  {
   "cell_type": "code",
   "execution_count": null,
   "metadata": {},
   "outputs": [],
   "source": [
    "time timestamps_of_sample_commits 3"
   ]
  },
  {
   "cell_type": "markdown",
   "metadata": {},
   "source": [
    "This is no speed daemon, so more performance tuning is a future goal, but it's useable. But what might we do with such data?\n",
    "One obvious thing to try is to see how one varies with the other. Are commits fast and furious at first, slowing down as time goes on?\n",
    "Do they start gradually, then pick up the pace?\n",
    "Do they race faster and faster at first, but then plateau as Git matures?\n",
    "\n",
    "A first step might be to do a least-squares fit of commit number against the timestamp.\n",
    "\n",
    "The ranges of the numbers aren't very comparable. At this point, Git has had about 1000 weeks of history so printing the timestamps in weeks instead of seconds might make more sense. Let's start pipe the output of `commit_number_by_date()` through a filter to scale it. \n",
    "\n",
    "We can turn seconds into weeks by dividing the timestamp by 60 * 60 * 24 * 7 (seconds/minute * minutes/hour * hours/day * days/week = seconds/week)."
   ]
  },
  {
   "cell_type": "code",
   "execution_count": null,
   "metadata": {},
   "outputs": [],
   "source": [
    "timestamps_of_sample_commits 10 | awk 'BEGIN {spw = 60*60*24*7} {print $1, $3/spw}'"
   ]
  },
  {
   "cell_type": "markdown",
   "metadata": {},
   "source": [
    "The next step is to do curve fitting and measure goodness-of-fit to whatever curve we fit.\n",
    "\n",
    "This is not a job for the shell."
   ]
  },
  {
   "cell_type": "markdown",
   "metadata": {},
   "source": [
    "## Fitting Curves to Data"
   ]
  },
  {
   "cell_type": "markdown",
   "metadata": {},
   "source": [
    "One easy option for exploring curve-fitting is spreadsheets. \n",
    "It's easy to import columnar data into Google Sheets, graph it, then use various models to get best-fits of curves like polynomials,\n",
    "logs and exponentials to some or all of your data to see what models you like best.\n",
    "\n",
    "For the moment, let's do something simpler: find the least-squares fit of a line to our data, and use some standard goodness-of-fit measure to see how wildly the commit data varies from that straight line.\n",
    "\n",
    "Even this is not a job for bash. Python seems like a reasonable choice, but we don't want this notebook to turn into a course on Python,\n",
    "so we'll just ask ChatGPT to write a program for us.  It offers up the program `lsfit.py`, which we include in our repository.\n",
    "\n",
    "To help make the result more sensible, let's also swap the columns of output we feed to `lsfit.py`. This makes time be the X-axis and commit-number the Y-axis. Instead of asking how time grows over commits, we'll see how commits accumulate over time."
   ]
  },
  {
   "cell_type": "markdown",
   "metadata": {},
   "source": [
    "`lsfit.py` requires `numpy`, so we need to make sure it's installed."
   ]
  },
  {
   "cell_type": "code",
   "execution_count": null,
   "metadata": {},
   "outputs": [],
   "source": [
    "pip install numpy"
   ]
  },
  {
   "cell_type": "code",
   "execution_count": null,
   "metadata": {},
   "outputs": [],
   "source": [
    "time timestamps_of_sample_commits 1000 | awk 'BEGIN {spw = 60*60*24*7} {print $3/spw, $1}' | ../lsfit.py"
   ]
  },
  {
   "cell_type": "markdown",
   "metadata": {},
   "source": [
    "Goodness!  The fit to a straight line is nearly perfect.\n",
    "\n",
    "Think for a second about what this means:\n",
    "\n",
    "1. Since its inception, the mean commit rate to the Git repository hasn't varied. Today, with over 2000 committers, without a central manager or corporation dictating who will do what and when, the rate is the same as it was in the beginning, when there was only Linus.\n",
    "1. Predicting how many commits there will be a week from now or calculating how many there were a year ago is simple arithmetic.\n",
    "1. Because commit number and date are linearly related, we can treat the commit number as just another a time stamp. It differs from seconds or days or years only by a multiplicative constant.\n",
    "To ask how any other property, like the number of committers or the number of files, varies over time, we can just ask how it varies with commit number.\n",
    "\n",
    "Yes, it is a little slow. \"Make it work, then make it fast.\""
   ]
  },
  {
   "cell_type": "code",
   "execution_count": null,
   "metadata": {},
   "outputs": [],
   "source": [
    "(( elapsed_seconds = SECONDS - begin_notebook ))\n",
    "(( minutes = elapsed_seconds / 60 ))\n",
    "seconds=$((elapsed_seconds - minutes*60))\n",
    "printf \"Elapsed time running notebook %02d:%02d\\n\" $minutes $seconds"
   ]
  },
  {
   "cell_type": "markdown",
   "metadata": {},
   "source": [
    "## Sources"
   ]
  },
  {
   "cell_type": "markdown",
   "metadata": {
    "jp-MarkdownHeadingCollapsed": true
   },
   "source": [
    "This notebook lives in the repository\n",
    "`https://github.com/jsh/paleontology-notebook.git`"
   ]
  }
 ],
 "metadata": {
  "kernelspec": {
   "display_name": "Bash",
   "language": "bash",
   "name": "bash"
  },
  "language_info": {
   "codemirror_mode": "shell",
   "file_extension": ".sh",
   "mimetype": "text/x-sh",
   "name": "bash"
  }
 },
 "nbformat": 4,
 "nbformat_minor": 4
}
